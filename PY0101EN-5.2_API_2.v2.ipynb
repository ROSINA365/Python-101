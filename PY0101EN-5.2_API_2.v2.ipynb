{
 "cells": [
  {
   "cell_type": "markdown",
   "id": "e3bd9a9a-e6cd-4e18-b8f7-9eeab34507fb",
   "metadata": {},
   "source": [
    "<center>\n",
    "    <img src=\"https://cf-courses-data.s3.us.cloud-object-storage.appdomain.cloud/assets/logos/SN_web_lightmode.png\" width=\"300\" alt=\"cognitiveclass.ai logo\"  />\n",
    "</center>\n",
    "\n",
    "# Simple APIs\n",
    "\n",
    "## Random User and Fruitvice API Examples\n",
    "\n",
    "Estimated time needed: **25** minutes\n",
    "\n",
    "## Objectives\n",
    "\n",
    "After completing this lab you will be able to:\n",
    "\n",
    "*   Load and use RandomUser API, using `RandomUser()` Python library\n",
    "*   Load and use Fruitvice API, using `requests` Python library\n"
   ]
  },
  {
   "cell_type": "markdown",
   "id": "faf4be8b-61c2-4e40-9283-ce5633f26fe6",
   "metadata": {},
   "source": [
    "The purpose of this notebook is to provide more examples on how to use simple APIs. As you have already learned from previous videos and notebooks, API stands for Application Programming Interface and is a software intermediary that allows two applications to talk to each other.\n",
    "\n",
    "The advantages of using APIs:\n",
    "\n",
    "*   **Automation**. Less human effort is required and workflows can be easily updated to become faster and more\\\n",
    "    productive.\n",
    "*   **Efficiency**. It allows to use the capabilities of one of the already developed APIs than to try to\n",
    "    independently implement some functionality from scratch.\n",
    "\n",
    "The disadvantage of using APIs:\n",
    "\n",
    "*   **Secirity**. If the API is poorly integrated, it means it will be vulnerable to attacks, resulting in data\\\n",
    "    breeches or losses having financial or reputation implications.\n",
    "\n",
    "One of the applications we will use in this notebook is Random User Generator. RandomUser is an open-source, free API providing developers with randomly generated users to be used as placeholders for testing purposes. This makes the tool similar to Lorem Ipsum, but is a placeholder for people instead of text. The API can return multiple results, as well as specify generated user details such as gender, email, image, username, address, title, first and last name, and more. More information on [RandomUser](https://randomuser.me/documentation?utm_medium=Exinfluencer&utm_source=Exinfluencer&utm_content=000026UJ&utm_term=10006555&utm_id=NA-SkillsNetwork-Channel-SkillsNetworkCoursesIBMDeveloperSkillsNetworkPY0101ENSkillsNetwork19487395-2022-01-01#intro) can be found here.\n",
    "\n",
    "Another example of simple API we will use in this notebook is Fruitvice application. The Fruitvice API webservice which provides data for all kinds of fruit! You can use Fruityvice to find out interesting information about fruit and educate yourself. The webservice is completely free to use and contribute to.\n"
   ]
  },
  {
   "cell_type": "markdown",
   "id": "537afe79-8638-44ef-aa9a-afab5704f423",
   "metadata": {},
   "source": [
    "## Example 1: RandomUser API\n",
    "\n",
    "Bellow are Get Methods parameters that we can generate. For more information on the parameters, please visit this [documentation](https://randomuser.me/documentation?utm_medium=Exinfluencer&utm_source=Exinfluencer&utm_content=000026UJ&utm_term=10006555&utm_id=NA-SkillsNetwork-Channel-SkillsNetworkCoursesIBMDeveloperSkillsNetworkPY0101ENSkillsNetwork19487395-2022-01-01) page.\n"
   ]
  },
  {
   "cell_type": "markdown",
   "id": "13eff4b5-3528-4cc7-a012-b9a7d7795aab",
   "metadata": {},
   "source": [
    "## **Get Methods**\n",
    "\n",
    "*   get_cell()\n",
    "*   get_city()\n",
    "*   get_dob()\n",
    "*   get_email()\n",
    "*   get_first_name()\n",
    "*   get_full_name()\n",
    "*   get_gender()\n",
    "*   get_id()\n",
    "*   get_id_number()\n",
    "*   get_id_type()\n",
    "*   get_info()\n",
    "*   get_last_name()\n",
    "*   get_login_md5()\n",
    "*   get_login_salt()\n",
    "*   get_login_sha1()\n",
    "*   get_login_sha256()\n",
    "*   get_nat()\n",
    "*   get_password()\n",
    "*   get_phone()\n",
    "*   get_picture()\n",
    "*   get_postcode()\n",
    "*   get_registered()\n",
    "*   get_state()\n",
    "*   get_street()\n",
    "*   get_username()\n",
    "*   get_zipcode()\n"
   ]
  },
  {
   "cell_type": "markdown",
   "id": "272de567-28e5-41e5-a826-6004cb99599e",
   "metadata": {},
   "source": [
    "To start using the API you can install the `randomuser` library running the `pip install` command.\n"
   ]
  },
  {
   "cell_type": "code",
   "execution_count": 4,
   "id": "3303e087-be18-4df0-a4d3-fb907d33cf85",
   "metadata": {},
   "outputs": [
    {
     "name": "stdout",
     "output_type": "stream",
     "text": [
      "Requirement already satisfied: randomuser in c:\\users\\sharon\\anaconda3\\lib\\site-packages (1.6)\n"
     ]
    }
   ],
   "source": [
    "!pip install randomuser"
   ]
  },
  {
   "cell_type": "markdown",
   "id": "2e943801-2287-43e0-a0de-2e88c7ab2997",
   "metadata": {},
   "source": [
    "Then, we will load the necessary libraries.\n"
   ]
  },
  {
   "cell_type": "code",
   "execution_count": 5,
   "id": "2e6fb3ac-4b0a-4fd4-bafe-9ababb5cfef4",
   "metadata": {},
   "outputs": [],
   "source": [
    "from randomuser import RandomUser\n",
    "import pandas as pd"
   ]
  },
  {
   "cell_type": "markdown",
   "id": "609eb1c1-3c16-4381-acf0-896800a6afb6",
   "metadata": {},
   "source": [
    "First, we will create a random user object, r.\n"
   ]
  },
  {
   "cell_type": "code",
   "execution_count": 6,
   "id": "6d875f14-ef54-4c7a-9bfd-be93619558ac",
   "metadata": {},
   "outputs": [],
   "source": [
    "r = RandomUser()"
   ]
  },
  {
   "cell_type": "markdown",
   "id": "990d2b02-a1dd-4305-ba21-8729d929ab53",
   "metadata": {},
   "source": [
    "Then, using `generate_users()` function, we get a list of random 10 users.\n"
   ]
  },
  {
   "cell_type": "code",
   "execution_count": 7,
   "id": "719dd960-4819-4f29-8ce5-59d4560d9b81",
   "metadata": {},
   "outputs": [],
   "source": [
    "some_list = r.generate_users(10)"
   ]
  },
  {
   "cell_type": "code",
   "execution_count": 8,
   "id": "565f9b93-5dc0-4d59-a0f6-30b829a3748f",
   "metadata": {},
   "outputs": [
    {
     "data": {
      "text/plain": [
       "[<randomuser.RandomUser at 0x174fdbe3c10>,\n",
       " <randomuser.RandomUser at 0x174fdb45250>,\n",
       " <randomuser.RandomUser at 0x174fdb45820>,\n",
       " <randomuser.RandomUser at 0x174fdb45190>,\n",
       " <randomuser.RandomUser at 0x174ffebcbe0>,\n",
       " <randomuser.RandomUser at 0x174fdbce550>,\n",
       " <randomuser.RandomUser at 0x174fdbce760>,\n",
       " <randomuser.RandomUser at 0x174fdbce790>,\n",
       " <randomuser.RandomUser at 0x174fdbcefa0>,\n",
       " <randomuser.RandomUser at 0x174fdbd58e0>]"
      ]
     },
     "execution_count": 8,
     "metadata": {},
     "output_type": "execute_result"
    }
   ],
   "source": [
    "some_list"
   ]
  },
  {
   "cell_type": "markdown",
   "id": "29191364-9ae7-40f1-bdce-14ea874c9db9",
   "metadata": {},
   "source": [
    "The **\"Get Methods\"** functions mentioned at the beginning of this notebook, can generate the required parameters to construct a dataset. For example, to get full name, we call `get_full_name()` function.\n"
   ]
  },
  {
   "cell_type": "code",
   "execution_count": 11,
   "id": "98303bd3-435b-4487-8507-a4fa385237c2",
   "metadata": {},
   "outputs": [],
   "source": [
    "name = r.get_full_name()\n",
    "#name"
   ]
  },
  {
   "cell_type": "markdown",
   "id": "39e7ddac-414a-40b4-aec0-b2c93c6688d7",
   "metadata": {},
   "source": [
    "Let's say we only need 10 users with full names and their email addresses. We can write a \"for-loop\" to print these 10 users.\n"
   ]
  },
  {
   "cell_type": "code",
   "execution_count": 12,
   "id": "fc4df431-d0ee-403c-8ca7-725c082ead97",
   "metadata": {},
   "outputs": [
    {
     "name": "stdout",
     "output_type": "stream",
     "text": [
      "Kuzey Günday   kuzey.gunday@example.com\n",
      "Harper Margaret   harper.margaret@example.com\n",
      "Vittorio Charles   vittorio.charles@example.com\n",
      "Conrad Jäckel   conrad.jackel@example.com\n",
      "Raul Ramcharan   raul.ramcharan@example.com\n",
      "Ethan Wilson   ethan.wilson@example.com\n",
      "Amin Kongsrud   amin.kongsrud@example.com\n",
      "زهرا حسینی   zhr.hsyny@example.com\n",
      "Tom Roger   tom.roger@example.com\n",
      "فاطمه حسینی   ftmh.hsyny@example.com\n"
     ]
    }
   ],
   "source": [
    "for user in some_list:\n",
    "    print (user.get_full_name(),\" \",user.get_email())"
   ]
  },
  {
   "cell_type": "markdown",
   "id": "c3d42721-4e99-45a9-9b4b-8ba40e067af2",
   "metadata": {},
   "source": [
    "## Exercise 1\n",
    "\n",
    "In this Exercise, generate photos of the random 5 users.\n"
   ]
  },
  {
   "cell_type": "code",
   "execution_count": 13,
   "id": "aee864df-938c-41f8-b662-721bdb2fa07f",
   "metadata": {},
   "outputs": [
    {
     "name": "stdout",
     "output_type": "stream",
     "text": [
      "https://randomuser.me/api/portraits/men/4.jpg\n",
      "https://randomuser.me/api/portraits/women/86.jpg\n",
      "https://randomuser.me/api/portraits/men/37.jpg\n",
      "https://randomuser.me/api/portraits/men/4.jpg\n",
      "https://randomuser.me/api/portraits/men/84.jpg\n",
      "https://randomuser.me/api/portraits/men/18.jpg\n",
      "https://randomuser.me/api/portraits/men/42.jpg\n",
      "https://randomuser.me/api/portraits/women/56.jpg\n",
      "https://randomuser.me/api/portraits/men/63.jpg\n",
      "https://randomuser.me/api/portraits/women/52.jpg\n"
     ]
    }
   ],
   "source": [
    "## Write your code\n",
    "for user in some_list:\n",
    "    print(user.get_picture())"
   ]
  },
  {
   "cell_type": "markdown",
   "id": "e2d2f60d-38bb-4cc0-a3e1-632a2de2bac9",
   "metadata": {},
   "source": [
    "<details><summary>Click here for the solution</summary>\n",
    "\n",
    "```python\n",
    "for user in some_list:\n",
    "    print (user.get_picture())\n",
    "```\n",
    "\n",
    "</details>\n"
   ]
  },
  {
   "cell_type": "markdown",
   "id": "4fb049fa-6ae1-4844-88c8-9b4cb71945c1",
   "metadata": {},
   "source": [
    "To generate a table with information about the users, we can write a function containing all desirable parameters. For example, name, gender, city, etc. The parameters will depend on the requirements of the test to be performed. We call the Get Methods, listed at the beginning of this notebook. Then, we return pandas dataframe with the users.\n"
   ]
  },
  {
   "cell_type": "code",
   "execution_count": 14,
   "id": "5bef8951-0a24-4f52-83e2-7bdfe5249114",
   "metadata": {},
   "outputs": [],
   "source": [
    "def get_users():\n",
    "    users =[]\n",
    "     \n",
    "    for user in RandomUser.generate_users(10):\n",
    "        users.append({\"Name\":user.get_full_name(),\"Gender\":user.get_gender(),\"City\":user.get_city(),\"State\":user.get_state(),\"Email\":user.get_email(), \"DOB\":user.get_dob(),\"Picture\":user.get_picture()})\n",
    "      \n",
    "    return pd.DataFrame(users)     "
   ]
  },
  {
   "cell_type": "code",
   "execution_count": 15,
   "id": "c7d05c65-826e-4d96-9815-ebfbc5bae1a2",
   "metadata": {},
   "outputs": [
    {
     "data": {
      "text/html": [
       "<div>\n",
       "<style scoped>\n",
       "    .dataframe tbody tr th:only-of-type {\n",
       "        vertical-align: middle;\n",
       "    }\n",
       "\n",
       "    .dataframe tbody tr th {\n",
       "        vertical-align: top;\n",
       "    }\n",
       "\n",
       "    .dataframe thead th {\n",
       "        text-align: right;\n",
       "    }\n",
       "</style>\n",
       "<table border=\"1\" class=\"dataframe\">\n",
       "  <thead>\n",
       "    <tr style=\"text-align: right;\">\n",
       "      <th></th>\n",
       "      <th>Name</th>\n",
       "      <th>Gender</th>\n",
       "      <th>City</th>\n",
       "      <th>State</th>\n",
       "      <th>Email</th>\n",
       "      <th>DOB</th>\n",
       "      <th>Picture</th>\n",
       "    </tr>\n",
       "  </thead>\n",
       "  <tbody>\n",
       "    <tr>\n",
       "      <th>0</th>\n",
       "      <td>Othelia Omer</td>\n",
       "      <td>female</td>\n",
       "      <td>Tjørvåg</td>\n",
       "      <td>Telemark</td>\n",
       "      <td>othelia.omer@example.com</td>\n",
       "      <td>1970-12-09T04:39:23.130Z</td>\n",
       "      <td>https://randomuser.me/api/portraits/women/21.jpg</td>\n",
       "    </tr>\n",
       "    <tr>\n",
       "      <th>1</th>\n",
       "      <td>Tea Engh</td>\n",
       "      <td>female</td>\n",
       "      <td>Stordal</td>\n",
       "      <td>Sør-Trøndelag</td>\n",
       "      <td>tea.engh@example.com</td>\n",
       "      <td>1958-01-25T11:23:30.118Z</td>\n",
       "      <td>https://randomuser.me/api/portraits/women/65.jpg</td>\n",
       "    </tr>\n",
       "    <tr>\n",
       "      <th>2</th>\n",
       "      <td>Katharina Roux</td>\n",
       "      <td>female</td>\n",
       "      <td>Altikon</td>\n",
       "      <td>Appenzell Innerrhoden</td>\n",
       "      <td>katharina.roux@example.com</td>\n",
       "      <td>1952-12-16T04:42:09.825Z</td>\n",
       "      <td>https://randomuser.me/api/portraits/women/27.jpg</td>\n",
       "    </tr>\n",
       "    <tr>\n",
       "      <th>3</th>\n",
       "      <td>Konsta Hamalainen</td>\n",
       "      <td>male</td>\n",
       "      <td>Merijärvi</td>\n",
       "      <td>South Karelia</td>\n",
       "      <td>konsta.hamalainen@example.com</td>\n",
       "      <td>1968-09-19T14:18:46.686Z</td>\n",
       "      <td>https://randomuser.me/api/portraits/men/42.jpg</td>\n",
       "    </tr>\n",
       "    <tr>\n",
       "      <th>4</th>\n",
       "      <td>Deniz Samancı</td>\n",
       "      <td>male</td>\n",
       "      <td>Trabzon</td>\n",
       "      <td>Çankırı</td>\n",
       "      <td>deniz.samanci@example.com</td>\n",
       "      <td>1964-10-10T22:06:55.749Z</td>\n",
       "      <td>https://randomuser.me/api/portraits/men/15.jpg</td>\n",
       "    </tr>\n",
       "    <tr>\n",
       "      <th>5</th>\n",
       "      <td>عسل کامروا</td>\n",
       "      <td>female</td>\n",
       "      <td>قرچک</td>\n",
       "      <td>کهگیلویه و بویراحمد</td>\n",
       "      <td>aasl.khmrw@example.com</td>\n",
       "      <td>1983-06-18T22:01:20.630Z</td>\n",
       "      <td>https://randomuser.me/api/portraits/women/79.jpg</td>\n",
       "    </tr>\n",
       "    <tr>\n",
       "      <th>6</th>\n",
       "      <td>Kuzey Kılıççı</td>\n",
       "      <td>male</td>\n",
       "      <td>Niğde</td>\n",
       "      <td>Hatay</td>\n",
       "      <td>kuzey.kilicci@example.com</td>\n",
       "      <td>1980-02-29T07:35:54.655Z</td>\n",
       "      <td>https://randomuser.me/api/portraits/men/25.jpg</td>\n",
       "    </tr>\n",
       "    <tr>\n",
       "      <th>7</th>\n",
       "      <td>Eemil Arola</td>\n",
       "      <td>male</td>\n",
       "      <td>Kannus</td>\n",
       "      <td>Central Ostrobothnia</td>\n",
       "      <td>eemil.arola@example.com</td>\n",
       "      <td>1950-08-26T04:31:50.706Z</td>\n",
       "      <td>https://randomuser.me/api/portraits/men/10.jpg</td>\n",
       "    </tr>\n",
       "    <tr>\n",
       "      <th>8</th>\n",
       "      <td>Yanis Richard</td>\n",
       "      <td>male</td>\n",
       "      <td>Fort-de-France</td>\n",
       "      <td>Tarn-et-Garonne</td>\n",
       "      <td>yanis.richard@example.com</td>\n",
       "      <td>1977-04-27T19:34:03.292Z</td>\n",
       "      <td>https://randomuser.me/api/portraits/men/43.jpg</td>\n",
       "    </tr>\n",
       "    <tr>\n",
       "      <th>9</th>\n",
       "      <td>Andre Hamilton</td>\n",
       "      <td>male</td>\n",
       "      <td>Denton</td>\n",
       "      <td>Wyoming</td>\n",
       "      <td>andre.hamilton@example.com</td>\n",
       "      <td>1984-03-25T11:38:46.342Z</td>\n",
       "      <td>https://randomuser.me/api/portraits/men/43.jpg</td>\n",
       "    </tr>\n",
       "  </tbody>\n",
       "</table>\n",
       "</div>"
      ],
      "text/plain": [
       "                Name  Gender            City                  State  \\\n",
       "0       Othelia Omer  female         Tjørvåg               Telemark   \n",
       "1           Tea Engh  female         Stordal          Sør-Trøndelag   \n",
       "2     Katharina Roux  female         Altikon  Appenzell Innerrhoden   \n",
       "3  Konsta Hamalainen    male       Merijärvi          South Karelia   \n",
       "4      Deniz Samancı    male         Trabzon                Çankırı   \n",
       "5         عسل کامروا  female            قرچک    کهگیلویه و بویراحمد   \n",
       "6      Kuzey Kılıççı    male           Niğde                  Hatay   \n",
       "7        Eemil Arola    male          Kannus   Central Ostrobothnia   \n",
       "8      Yanis Richard    male  Fort-de-France        Tarn-et-Garonne   \n",
       "9     Andre Hamilton    male          Denton                Wyoming   \n",
       "\n",
       "                           Email                       DOB  \\\n",
       "0       othelia.omer@example.com  1970-12-09T04:39:23.130Z   \n",
       "1           tea.engh@example.com  1958-01-25T11:23:30.118Z   \n",
       "2     katharina.roux@example.com  1952-12-16T04:42:09.825Z   \n",
       "3  konsta.hamalainen@example.com  1968-09-19T14:18:46.686Z   \n",
       "4      deniz.samanci@example.com  1964-10-10T22:06:55.749Z   \n",
       "5         aasl.khmrw@example.com  1983-06-18T22:01:20.630Z   \n",
       "6      kuzey.kilicci@example.com  1980-02-29T07:35:54.655Z   \n",
       "7        eemil.arola@example.com  1950-08-26T04:31:50.706Z   \n",
       "8      yanis.richard@example.com  1977-04-27T19:34:03.292Z   \n",
       "9     andre.hamilton@example.com  1984-03-25T11:38:46.342Z   \n",
       "\n",
       "                                            Picture  \n",
       "0  https://randomuser.me/api/portraits/women/21.jpg  \n",
       "1  https://randomuser.me/api/portraits/women/65.jpg  \n",
       "2  https://randomuser.me/api/portraits/women/27.jpg  \n",
       "3    https://randomuser.me/api/portraits/men/42.jpg  \n",
       "4    https://randomuser.me/api/portraits/men/15.jpg  \n",
       "5  https://randomuser.me/api/portraits/women/79.jpg  \n",
       "6    https://randomuser.me/api/portraits/men/25.jpg  \n",
       "7    https://randomuser.me/api/portraits/men/10.jpg  \n",
       "8    https://randomuser.me/api/portraits/men/43.jpg  \n",
       "9    https://randomuser.me/api/portraits/men/43.jpg  "
      ]
     },
     "execution_count": 15,
     "metadata": {},
     "output_type": "execute_result"
    }
   ],
   "source": [
    "get_users()"
   ]
  },
  {
   "cell_type": "code",
   "execution_count": 15,
   "id": "0a2cda2a-a364-4e71-8c3a-39acac424728",
   "metadata": {},
   "outputs": [
    {
     "data": {
      "text/html": [
       "<div>\n",
       "<style scoped>\n",
       "    .dataframe tbody tr th:only-of-type {\n",
       "        vertical-align: middle;\n",
       "    }\n",
       "\n",
       "    .dataframe tbody tr th {\n",
       "        vertical-align: top;\n",
       "    }\n",
       "\n",
       "    .dataframe thead th {\n",
       "        text-align: right;\n",
       "    }\n",
       "</style>\n",
       "<table border=\"1\" class=\"dataframe\">\n",
       "  <thead>\n",
       "    <tr style=\"text-align: right;\">\n",
       "      <th></th>\n",
       "      <th>Name</th>\n",
       "      <th>Gender</th>\n",
       "      <th>City</th>\n",
       "      <th>State</th>\n",
       "      <th>Email</th>\n",
       "      <th>DOB</th>\n",
       "      <th>Picture</th>\n",
       "    </tr>\n",
       "  </thead>\n",
       "  <tbody>\n",
       "    <tr>\n",
       "      <th>0</th>\n",
       "      <td>Sedef Köybaşı</td>\n",
       "      <td>female</td>\n",
       "      <td>Yozgat</td>\n",
       "      <td>Ordu</td>\n",
       "      <td>sedef.koybasi@example.com</td>\n",
       "      <td>1996-09-20T10:29:38.730Z</td>\n",
       "      <td>https://randomuser.me/api/portraits/women/61.jpg</td>\n",
       "    </tr>\n",
       "    <tr>\n",
       "      <th>1</th>\n",
       "      <td>August Jørgensen</td>\n",
       "      <td>male</td>\n",
       "      <td>Horsens</td>\n",
       "      <td>Nordjylland</td>\n",
       "      <td>august.jorgensen@example.com</td>\n",
       "      <td>1953-12-30T08:56:03.685Z</td>\n",
       "      <td>https://randomuser.me/api/portraits/men/67.jpg</td>\n",
       "    </tr>\n",
       "    <tr>\n",
       "      <th>2</th>\n",
       "      <td>Lucy Clarke</td>\n",
       "      <td>female</td>\n",
       "      <td>Hastings</td>\n",
       "      <td>Gisborne</td>\n",
       "      <td>lucy.clarke@example.com</td>\n",
       "      <td>1975-05-28T17:12:00.289Z</td>\n",
       "      <td>https://randomuser.me/api/portraits/women/5.jpg</td>\n",
       "    </tr>\n",
       "    <tr>\n",
       "      <th>3</th>\n",
       "      <td>Abbas Coers</td>\n",
       "      <td>male</td>\n",
       "      <td>Colmschate</td>\n",
       "      <td>Drenthe</td>\n",
       "      <td>abbas.coers@example.com</td>\n",
       "      <td>1984-06-11T11:47:23.515Z</td>\n",
       "      <td>https://randomuser.me/api/portraits/men/89.jpg</td>\n",
       "    </tr>\n",
       "    <tr>\n",
       "      <th>4</th>\n",
       "      <td>Pilar Diez</td>\n",
       "      <td>female</td>\n",
       "      <td>Barcelona</td>\n",
       "      <td>Castilla y León</td>\n",
       "      <td>pilar.diez@example.com</td>\n",
       "      <td>1969-08-25T07:34:43.113Z</td>\n",
       "      <td>https://randomuser.me/api/portraits/women/3.jpg</td>\n",
       "    </tr>\n",
       "    <tr>\n",
       "      <th>5</th>\n",
       "      <td>Jimmie Davidson</td>\n",
       "      <td>male</td>\n",
       "      <td>Southampton</td>\n",
       "      <td>Clwyd</td>\n",
       "      <td>jimmie.davidson@example.com</td>\n",
       "      <td>1954-07-25T06:30:58.024Z</td>\n",
       "      <td>https://randomuser.me/api/portraits/men/24.jpg</td>\n",
       "    </tr>\n",
       "    <tr>\n",
       "      <th>6</th>\n",
       "      <td>Josep Pastor</td>\n",
       "      <td>male</td>\n",
       "      <td>Las Palmas de Gran Canaria</td>\n",
       "      <td>Aragón</td>\n",
       "      <td>josep.pastor@example.com</td>\n",
       "      <td>1984-06-11T00:42:29.737Z</td>\n",
       "      <td>https://randomuser.me/api/portraits/men/80.jpg</td>\n",
       "    </tr>\n",
       "    <tr>\n",
       "      <th>7</th>\n",
       "      <td>Konsta Niva</td>\n",
       "      <td>male</td>\n",
       "      <td>Sipoo</td>\n",
       "      <td>Northern Ostrobothnia</td>\n",
       "      <td>konsta.niva@example.com</td>\n",
       "      <td>1961-11-27T18:34:23.936Z</td>\n",
       "      <td>https://randomuser.me/api/portraits/men/86.jpg</td>\n",
       "    </tr>\n",
       "    <tr>\n",
       "      <th>8</th>\n",
       "      <td>Lucia Ferrer</td>\n",
       "      <td>female</td>\n",
       "      <td>Alcalá de Henares</td>\n",
       "      <td>Galicia</td>\n",
       "      <td>lucia.ferrer@example.com</td>\n",
       "      <td>1964-08-14T12:42:19.419Z</td>\n",
       "      <td>https://randomuser.me/api/portraits/women/40.jpg</td>\n",
       "    </tr>\n",
       "    <tr>\n",
       "      <th>9</th>\n",
       "      <td>Tracey Stewart</td>\n",
       "      <td>female</td>\n",
       "      <td>Lincoln</td>\n",
       "      <td>West Yorkshire</td>\n",
       "      <td>tracey.stewart@example.com</td>\n",
       "      <td>1969-02-03T08:28:59.822Z</td>\n",
       "      <td>https://randomuser.me/api/portraits/women/37.jpg</td>\n",
       "    </tr>\n",
       "  </tbody>\n",
       "</table>\n",
       "</div>"
      ],
      "text/plain": [
       "               Name  Gender                        City  \\\n",
       "0     Sedef Köybaşı  female                      Yozgat   \n",
       "1  August Jørgensen    male                     Horsens   \n",
       "2       Lucy Clarke  female                    Hastings   \n",
       "3       Abbas Coers    male                  Colmschate   \n",
       "4        Pilar Diez  female                   Barcelona   \n",
       "5   Jimmie Davidson    male                 Southampton   \n",
       "6      Josep Pastor    male  Las Palmas de Gran Canaria   \n",
       "7       Konsta Niva    male                       Sipoo   \n",
       "8      Lucia Ferrer  female           Alcalá de Henares   \n",
       "9    Tracey Stewart  female                     Lincoln   \n",
       "\n",
       "                   State                         Email  \\\n",
       "0                   Ordu     sedef.koybasi@example.com   \n",
       "1            Nordjylland  august.jorgensen@example.com   \n",
       "2               Gisborne       lucy.clarke@example.com   \n",
       "3                Drenthe       abbas.coers@example.com   \n",
       "4        Castilla y León        pilar.diez@example.com   \n",
       "5                  Clwyd   jimmie.davidson@example.com   \n",
       "6                 Aragón      josep.pastor@example.com   \n",
       "7  Northern Ostrobothnia       konsta.niva@example.com   \n",
       "8                Galicia      lucia.ferrer@example.com   \n",
       "9         West Yorkshire    tracey.stewart@example.com   \n",
       "\n",
       "                        DOB                                           Picture  \n",
       "0  1996-09-20T10:29:38.730Z  https://randomuser.me/api/portraits/women/61.jpg  \n",
       "1  1953-12-30T08:56:03.685Z    https://randomuser.me/api/portraits/men/67.jpg  \n",
       "2  1975-05-28T17:12:00.289Z   https://randomuser.me/api/portraits/women/5.jpg  \n",
       "3  1984-06-11T11:47:23.515Z    https://randomuser.me/api/portraits/men/89.jpg  \n",
       "4  1969-08-25T07:34:43.113Z   https://randomuser.me/api/portraits/women/3.jpg  \n",
       "5  1954-07-25T06:30:58.024Z    https://randomuser.me/api/portraits/men/24.jpg  \n",
       "6  1984-06-11T00:42:29.737Z    https://randomuser.me/api/portraits/men/80.jpg  \n",
       "7  1961-11-27T18:34:23.936Z    https://randomuser.me/api/portraits/men/86.jpg  \n",
       "8  1964-08-14T12:42:19.419Z  https://randomuser.me/api/portraits/women/40.jpg  \n",
       "9  1969-02-03T08:28:59.822Z  https://randomuser.me/api/portraits/women/37.jpg  "
      ]
     },
     "execution_count": 15,
     "metadata": {},
     "output_type": "execute_result"
    }
   ],
   "source": [
    "df1 = pd.DataFrame(get_users())  \n",
    "df1"
   ]
  },
  {
   "cell_type": "markdown",
   "id": "27c8eac9-b382-4df2-aaf3-82837d111ba2",
   "metadata": {},
   "source": [
    "Now we have a *pandas* dataframe that can be used for any testing purposes that the tester might have.\n"
   ]
  },
  {
   "cell_type": "markdown",
   "id": "48bed39a-4530-4a43-bfee-dda5c4ed8680",
   "metadata": {},
   "source": [
    "## Example 2: Fruitvice API\n",
    "\n",
    "Another, more common way to use APIs, is through `requests` library. The next lab, Requests and HTTP, will contain more information about requests.\n",
    "\n",
    "We will start by importing all required libraries.\n"
   ]
  },
  {
   "cell_type": "code",
   "execution_count": 16,
   "id": "b870d2df-34b7-40ab-8590-3f332c98dd29",
   "metadata": {},
   "outputs": [],
   "source": [
    "import requests\n",
    "import json"
   ]
  },
  {
   "cell_type": "markdown",
   "id": "cc03067a-d7fc-4fec-b40f-edbc377edf70",
   "metadata": {},
   "source": [
    "We will obtain the [fruitvice](https://www.fruityvice.com/?utm_medium=Exinfluencer&utm_source=Exinfluencer&utm_content=000026UJ&utm_term=10006555&utm_id=NA-SkillsNetwork-Channel-SkillsNetworkCoursesIBMDeveloperSkillsNetworkPY0101ENSkillsNetwork19487395-2022-01-01) API data using `requests.get(\"url\")` function. The data is in a json format.\n"
   ]
  },
  {
   "cell_type": "code",
   "execution_count": 17,
   "id": "d6666070-6137-4fb0-8ae0-685ca9fa6263",
   "metadata": {},
   "outputs": [],
   "source": [
    "data = requests.get(\"https://www.fruityvice.com/api/fruit/all\")"
   ]
  },
  {
   "cell_type": "markdown",
   "id": "602ef509-8362-4351-81f4-37d36d0faf3b",
   "metadata": {},
   "source": [
    "We will retrieve results using `json.loads()` function.\n"
   ]
  },
  {
   "cell_type": "code",
   "execution_count": 18,
   "id": "e55d1575-5106-46bf-a24f-870d6f166592",
   "metadata": {},
   "outputs": [],
   "source": [
    "results = json.loads(data.text)"
   ]
  },
  {
   "cell_type": "markdown",
   "id": "864df24c-6982-4ccd-9feb-8ff361fe00b5",
   "metadata": {},
   "source": [
    "We will convert our json data into *pandas* data frame.\n"
   ]
  },
  {
   "cell_type": "code",
   "execution_count": 19,
   "id": "cc5b0a48-1711-45c5-92cc-1082f63c6d09",
   "metadata": {},
   "outputs": [
    {
     "data": {
      "text/html": [
       "<div>\n",
       "<style scoped>\n",
       "    .dataframe tbody tr th:only-of-type {\n",
       "        vertical-align: middle;\n",
       "    }\n",
       "\n",
       "    .dataframe tbody tr th {\n",
       "        vertical-align: top;\n",
       "    }\n",
       "\n",
       "    .dataframe thead th {\n",
       "        text-align: right;\n",
       "    }\n",
       "</style>\n",
       "<table border=\"1\" class=\"dataframe\">\n",
       "  <thead>\n",
       "    <tr style=\"text-align: right;\">\n",
       "      <th></th>\n",
       "      <th>genus</th>\n",
       "      <th>name</th>\n",
       "      <th>id</th>\n",
       "      <th>family</th>\n",
       "      <th>order</th>\n",
       "      <th>nutritions</th>\n",
       "    </tr>\n",
       "  </thead>\n",
       "  <tbody>\n",
       "    <tr>\n",
       "      <th>0</th>\n",
       "      <td>Malus</td>\n",
       "      <td>Apple</td>\n",
       "      <td>6</td>\n",
       "      <td>Rosaceae</td>\n",
       "      <td>Rosales</td>\n",
       "      <td>{'carbohydrates': 11.4, 'protein': 0.3, 'fat':...</td>\n",
       "    </tr>\n",
       "    <tr>\n",
       "      <th>1</th>\n",
       "      <td>Prunus</td>\n",
       "      <td>Apricot</td>\n",
       "      <td>35</td>\n",
       "      <td>Rosaceae</td>\n",
       "      <td>Rosales</td>\n",
       "      <td>{'carbohydrates': 3.9, 'protein': 0.5, 'fat': ...</td>\n",
       "    </tr>\n",
       "    <tr>\n",
       "      <th>2</th>\n",
       "      <td>Musa</td>\n",
       "      <td>Banana</td>\n",
       "      <td>1</td>\n",
       "      <td>Musaceae</td>\n",
       "      <td>Zingiberales</td>\n",
       "      <td>{'carbohydrates': 22, 'protein': 1, 'fat': 0.2...</td>\n",
       "    </tr>\n",
       "    <tr>\n",
       "      <th>3</th>\n",
       "      <td>Rubus</td>\n",
       "      <td>Blackberry</td>\n",
       "      <td>64</td>\n",
       "      <td>Rosaceae</td>\n",
       "      <td>Rosales</td>\n",
       "      <td>{'carbohydrates': 9, 'protein': 1.3, 'fat': 0....</td>\n",
       "    </tr>\n",
       "    <tr>\n",
       "      <th>4</th>\n",
       "      <td>Fragaria</td>\n",
       "      <td>Blueberry</td>\n",
       "      <td>33</td>\n",
       "      <td>Rosaceae</td>\n",
       "      <td>Rosales</td>\n",
       "      <td>{'carbohydrates': 5.5, 'protein': 0, 'fat': 0....</td>\n",
       "    </tr>\n",
       "  </tbody>\n",
       "</table>\n",
       "</div>"
      ],
      "text/plain": [
       "      genus        name  id    family         order  \\\n",
       "0     Malus       Apple   6  Rosaceae       Rosales   \n",
       "1    Prunus     Apricot  35  Rosaceae       Rosales   \n",
       "2      Musa      Banana   1  Musaceae  Zingiberales   \n",
       "3     Rubus  Blackberry  64  Rosaceae       Rosales   \n",
       "4  Fragaria   Blueberry  33  Rosaceae       Rosales   \n",
       "\n",
       "                                          nutritions  \n",
       "0  {'carbohydrates': 11.4, 'protein': 0.3, 'fat':...  \n",
       "1  {'carbohydrates': 3.9, 'protein': 0.5, 'fat': ...  \n",
       "2  {'carbohydrates': 22, 'protein': 1, 'fat': 0.2...  \n",
       "3  {'carbohydrates': 9, 'protein': 1.3, 'fat': 0....  \n",
       "4  {'carbohydrates': 5.5, 'protein': 0, 'fat': 0....  "
      ]
     },
     "execution_count": 19,
     "metadata": {},
     "output_type": "execute_result"
    }
   ],
   "source": [
    "pd.DataFrame(results).head(5)"
   ]
  },
  {
   "cell_type": "markdown",
   "id": "c88b2014-6130-4cbd-ae14-9256f9f0e1be",
   "metadata": {},
   "source": [
    "The result is in a nested json format. The 'nutrition' column contains multiple subcolumns, so the data needs to be 'flattened' or normalized.\n"
   ]
  },
  {
   "cell_type": "code",
   "execution_count": 20,
   "id": "b209d6c5-ab68-42c0-a17e-ee416afc84fd",
   "metadata": {},
   "outputs": [],
   "source": [
    "df2 = pd.json_normalize(results)"
   ]
  },
  {
   "cell_type": "code",
   "execution_count": 24,
   "id": "e76145a4-f77c-42c6-9b75-1f380b734de1",
   "metadata": {},
   "outputs": [
    {
     "data": {
      "text/html": [
       "<div>\n",
       "<style scoped>\n",
       "    .dataframe tbody tr th:only-of-type {\n",
       "        vertical-align: middle;\n",
       "    }\n",
       "\n",
       "    .dataframe tbody tr th {\n",
       "        vertical-align: top;\n",
       "    }\n",
       "\n",
       "    .dataframe thead th {\n",
       "        text-align: right;\n",
       "    }\n",
       "</style>\n",
       "<table border=\"1\" class=\"dataframe\">\n",
       "  <thead>\n",
       "    <tr style=\"text-align: right;\">\n",
       "      <th></th>\n",
       "      <th>genus</th>\n",
       "      <th>name</th>\n",
       "      <th>id</th>\n",
       "      <th>family</th>\n",
       "      <th>order</th>\n",
       "      <th>nutritions.carbohydrates</th>\n",
       "      <th>nutritions.protein</th>\n",
       "      <th>nutritions.fat</th>\n",
       "      <th>nutritions.calories</th>\n",
       "      <th>nutritions.sugar</th>\n",
       "    </tr>\n",
       "  </thead>\n",
       "  <tbody>\n",
       "    <tr>\n",
       "      <th>0</th>\n",
       "      <td>Malus</td>\n",
       "      <td>Apple</td>\n",
       "      <td>6</td>\n",
       "      <td>Rosaceae</td>\n",
       "      <td>Rosales</td>\n",
       "      <td>11.4</td>\n",
       "      <td>0.3</td>\n",
       "      <td>0.4</td>\n",
       "      <td>52</td>\n",
       "      <td>10.3</td>\n",
       "    </tr>\n",
       "    <tr>\n",
       "      <th>1</th>\n",
       "      <td>Prunus</td>\n",
       "      <td>Apricot</td>\n",
       "      <td>35</td>\n",
       "      <td>Rosaceae</td>\n",
       "      <td>Rosales</td>\n",
       "      <td>3.9</td>\n",
       "      <td>0.5</td>\n",
       "      <td>0.1</td>\n",
       "      <td>15</td>\n",
       "      <td>3.2</td>\n",
       "    </tr>\n",
       "    <tr>\n",
       "      <th>2</th>\n",
       "      <td>Musa</td>\n",
       "      <td>Banana</td>\n",
       "      <td>1</td>\n",
       "      <td>Musaceae</td>\n",
       "      <td>Zingiberales</td>\n",
       "      <td>22.0</td>\n",
       "      <td>1.0</td>\n",
       "      <td>0.2</td>\n",
       "      <td>96</td>\n",
       "      <td>17.2</td>\n",
       "    </tr>\n",
       "    <tr>\n",
       "      <th>3</th>\n",
       "      <td>Rubus</td>\n",
       "      <td>Blackberry</td>\n",
       "      <td>64</td>\n",
       "      <td>Rosaceae</td>\n",
       "      <td>Rosales</td>\n",
       "      <td>9.0</td>\n",
       "      <td>1.3</td>\n",
       "      <td>0.4</td>\n",
       "      <td>40</td>\n",
       "      <td>4.5</td>\n",
       "    </tr>\n",
       "    <tr>\n",
       "      <th>4</th>\n",
       "      <td>Fragaria</td>\n",
       "      <td>Blueberry</td>\n",
       "      <td>33</td>\n",
       "      <td>Rosaceae</td>\n",
       "      <td>Rosales</td>\n",
       "      <td>5.5</td>\n",
       "      <td>0.0</td>\n",
       "      <td>0.4</td>\n",
       "      <td>29</td>\n",
       "      <td>5.4</td>\n",
       "    </tr>\n",
       "  </tbody>\n",
       "</table>\n",
       "</div>"
      ],
      "text/plain": [
       "      genus        name  id    family         order  nutritions.carbohydrates  \\\n",
       "0     Malus       Apple   6  Rosaceae       Rosales                      11.4   \n",
       "1    Prunus     Apricot  35  Rosaceae       Rosales                       3.9   \n",
       "2      Musa      Banana   1  Musaceae  Zingiberales                      22.0   \n",
       "3     Rubus  Blackberry  64  Rosaceae       Rosales                       9.0   \n",
       "4  Fragaria   Blueberry  33  Rosaceae       Rosales                       5.5   \n",
       "\n",
       "   nutritions.protein  nutritions.fat  nutritions.calories  nutritions.sugar  \n",
       "0                 0.3             0.4                   52              10.3  \n",
       "1                 0.5             0.1                   15               3.2  \n",
       "2                 1.0             0.2                   96              17.2  \n",
       "3                 1.3             0.4                   40               4.5  \n",
       "4                 0.0             0.4                   29               5.4  "
      ]
     },
     "execution_count": 24,
     "metadata": {},
     "output_type": "execute_result"
    }
   ],
   "source": [
    "df2.head()\n"
   ]
  },
  {
   "cell_type": "markdown",
   "id": "6e8f04a8-37c8-49a1-984a-7a4e748ca58d",
   "metadata": {},
   "source": [
    "Let's see if we can extract some information from this dataframe. Perhaps, we need to know the family and genus of a cherry.\n"
   ]
  },
  {
   "cell_type": "code",
   "execution_count": 22,
   "id": "8a425265-e4b9-4451-a0bb-7f8f41a84cd7",
   "metadata": {},
   "outputs": [
    {
     "data": {
      "text/plain": [
       "('Rosaceae', 'Prunus')"
      ]
     },
     "execution_count": 22,
     "metadata": {},
     "output_type": "execute_result"
    }
   ],
   "source": [
    "cherry = df2.loc[df2[\"name\"] == 'Cherry']\n",
    "(cherry.iloc[0]['family']) , (cherry.iloc[0]['genus'])"
   ]
  },
  {
   "cell_type": "markdown",
   "id": "a6e6e78b-a6e4-4c1c-bd7d-a312f7fa0b2e",
   "metadata": {},
   "source": [
    "## Exercise 2\n",
    "\n",
    "In this Exercise, find out how many calories are contained in a banana.\n"
   ]
  },
  {
   "cell_type": "code",
   "execution_count": 23,
   "id": "98c1ffd5-6dfd-4b7c-8481-6eaff8caa42a",
   "metadata": {},
   "outputs": [
    {
     "data": {
      "text/plain": [
       "22.0"
      ]
     },
     "execution_count": 23,
     "metadata": {},
     "output_type": "execute_result"
    }
   ],
   "source": [
    "# Write your code here\n",
    "cal_banana = df2.loc[df2[\"name\"] == 'Banana']\n",
    "cal_banana.iloc[0]['nutritions.carbohydrates']\n"
   ]
  },
  {
   "cell_type": "markdown",
   "id": "095b6c19-6864-4b2e-91c3-61c2a7ee7e46",
   "metadata": {},
   "source": [
    "<details><summary>Click here for the solution</summary>\n",
    "\n",
    "```python\n",
    "cal_banana = df2.loc[df2[\"name\"] == 'Banana']\n",
    "cal_banana.iloc[0]['nutritions.carbohydrates']\n",
    "```\n",
    "\n",
    "</details>\n"
   ]
  },
  {
   "cell_type": "markdown",
   "id": "963fbca0-2671-4bd3-a194-3e8d7a03316d",
   "metadata": {},
   "source": [
    "## Exercise 3\n",
    "\n",
    "This [page](https://github.com/public-apis/public-apis#animals) contains a list of free public APIs. Choose any API of your interest and use it to load/extract some information, as shown in the example above.\n",
    "\n",
    "1.  Using `requests.get(\"url\")` function, load your data.\n"
   ]
  },
  {
   "cell_type": "code",
   "execution_count": 28,
   "id": "a8170667-71cd-43d9-b57e-3cd8f7688cb1",
   "metadata": {},
   "outputs": [],
   "source": [
    "# Write your code here\n",
    "#url = 'https://alexwohlbruck.github.io/cat-facts/'\n",
    "data2 = requests.get(\"https://www.fishwatch.gov/api/species\")"
   ]
  },
  {
   "cell_type": "markdown",
   "id": "e9626816-af9c-4d70-84bc-ba650b79ca74",
   "metadata": {},
   "source": [
    "<details><summary>Click here for the solution</summary>\n",
    "\n",
    "```python\n",
    "data2 = requests.get(\"https://www.fishwatch.gov/api/species\")\n",
    "```\n",
    "\n",
    "</details>\n"
   ]
  },
  {
   "cell_type": "markdown",
   "id": "a94bb99b-a701-498b-ae22-cf091c3d6be7",
   "metadata": {},
   "source": [
    "2.  Retrieve results using `json.loads()` function.\n"
   ]
  },
  {
   "cell_type": "code",
   "execution_count": 30,
   "id": "dc098952-1a2a-4790-8440-e4c310cef86d",
   "metadata": {},
   "outputs": [],
   "source": [
    "# Write your code here\n",
    "results2 = json.loads(data2.text)"
   ]
  },
  {
   "cell_type": "markdown",
   "id": "7945c3a0-6349-4180-ac0b-30db1caf72f6",
   "metadata": {},
   "source": [
    "<details><summary>Click here for the solution</summary>\n",
    "\n",
    "```python\n",
    "results2 = json.loads(data2.text)\n",
    "```\n",
    "\n",
    "</details>\n"
   ]
  },
  {
   "cell_type": "markdown",
   "id": "751dfb83-972c-49e9-9e93-a92af4c111a9",
   "metadata": {},
   "source": [
    "3.  Convert json data into *pandas* data frame.\n"
   ]
  },
  {
   "cell_type": "code",
   "execution_count": 31,
   "id": "f1cf0945-2383-4554-b924-95e7abf1c30b",
   "metadata": {},
   "outputs": [
    {
     "data": {
      "text/html": [
       "<div>\n",
       "<style scoped>\n",
       "    .dataframe tbody tr th:only-of-type {\n",
       "        vertical-align: middle;\n",
       "    }\n",
       "\n",
       "    .dataframe tbody tr th {\n",
       "        vertical-align: top;\n",
       "    }\n",
       "\n",
       "    .dataframe thead th {\n",
       "        text-align: right;\n",
       "    }\n",
       "</style>\n",
       "<table border=\"1\" class=\"dataframe\">\n",
       "  <thead>\n",
       "    <tr style=\"text-align: right;\">\n",
       "      <th></th>\n",
       "      <th>Fishery Management</th>\n",
       "      <th>Habitat</th>\n",
       "      <th>Habitat Impacts</th>\n",
       "      <th>Image Gallery</th>\n",
       "      <th>Location</th>\n",
       "      <th>Management</th>\n",
       "      <th>NOAA Fisheries Region</th>\n",
       "      <th>Population</th>\n",
       "      <th>Population Status</th>\n",
       "      <th>Scientific Name</th>\n",
       "      <th>...</th>\n",
       "      <th>Selenium</th>\n",
       "      <th>Serving Weight</th>\n",
       "      <th>Servings</th>\n",
       "      <th>Sodium</th>\n",
       "      <th>Source</th>\n",
       "      <th>Sugars, Total</th>\n",
       "      <th>Taste</th>\n",
       "      <th>Texture</th>\n",
       "      <th>Path</th>\n",
       "      <th>last_update</th>\n",
       "    </tr>\n",
       "  </thead>\n",
       "  <tbody>\n",
       "    <tr>\n",
       "      <th>0</th>\n",
       "      <td>&lt;ul&gt;\\n&lt;li&gt;&lt;a href=\"https://www.fisheries.noaa....</td>\n",
       "      <td>None</td>\n",
       "      <td>Bottomfish fishing operations, typically using...</td>\n",
       "      <td>[{'src': 'https://www.fishwatch.gov/sites/defa...</td>\n",
       "      <td>&lt;ul&gt;\\n&lt;li&gt;Crimson jobfish are distributed thro...</td>\n",
       "      <td>None</td>\n",
       "      <td>Pacific Islands</td>\n",
       "      <td>The population level is unknown, but the stock...</td>\n",
       "      <td>&lt;ul&gt;\\n&lt;li&gt;There are five stocks of crimson job...</td>\n",
       "      <td>Pristipomoides filamentosus</td>\n",
       "      <td>...</td>\n",
       "      <td>38.2 mcg</td>\n",
       "      <td>100 g (raw)</td>\n",
       "      <td>1</td>\n",
       "      <td>64 mg</td>\n",
       "      <td>&lt;p&gt;U.S -wild caught around Hawaii and Pacific ...</td>\n",
       "      <td>0 g</td>\n",
       "      <td>&lt;p&gt;Crimson jobfish has a delicate flavor.&lt;/p&gt;\\n</td>\n",
       "      <td>&lt;p&gt;Crimson jobfish has&amp;nbsp;a firm texture and...</td>\n",
       "      <td>/profiles/crimson-jobfish</td>\n",
       "      <td>06/21/2022 - 12:00</td>\n",
       "    </tr>\n",
       "    <tr>\n",
       "      <th>1</th>\n",
       "      <td>&lt;ul&gt;\\n&lt;li&gt;&lt;a href=\"https://www.fisheries.noaa....</td>\n",
       "      <td>&lt;ul&gt;\\n&lt;li&gt;White hake are groundfish, meaning t...</td>\n",
       "      <td>Area closures and gear restrictions protect ha...</td>\n",
       "      <td>[{'src': 'https://www.fishwatch.gov/sites/defa...</td>\n",
       "      <td>&lt;ul&gt;\\n&lt;li&gt;White hake are found in the northwes...</td>\n",
       "      <td>None</td>\n",
       "      <td>Greater Atlantic</td>\n",
       "      <td>Significantly below target population level. A...</td>\n",
       "      <td>&lt;ul&gt;\\n&lt;li&gt;According to the 2019 stock assessme...</td>\n",
       "      <td>Urophycis tenuis</td>\n",
       "      <td>...</td>\n",
       "      <td>32.1 mcg</td>\n",
       "      <td>100 g (raw)</td>\n",
       "      <td>1</td>\n",
       "      <td>72 mg</td>\n",
       "      <td>&lt;p&gt;White hake is wild-caught from Maine to sou...</td>\n",
       "      <td>0 g</td>\n",
       "      <td>&lt;p&gt;White hake has a mild, almost sweet&amp;nbsp;ta...</td>\n",
       "      <td>&lt;p&gt;White hake has a soft, delicate texture tha...</td>\n",
       "      <td>/profiles/white-hake</td>\n",
       "      <td>03/24/2022 - 10:36</td>\n",
       "    </tr>\n",
       "    <tr>\n",
       "      <th>2</th>\n",
       "      <td>&lt;ul&gt;\\n&lt;li&gt;\\n&lt;p&gt;&lt;a href=\"https://archive.fisher...</td>\n",
       "      <td>&lt;ul&gt;\\n&lt;li&gt;Atlantic chub mackerel are a schooli...</td>\n",
       "      <td>Area closures and gear restrictions protect ha...</td>\n",
       "      <td>[{'src': 'https://www.fishwatch.gov/sites/defa...</td>\n",
       "      <td>&lt;ul&gt;\\n&lt;li&gt;Atlantic chub mackerel in the wester...</td>\n",
       "      <td>None</td>\n",
       "      <td>Greater Atlantic</td>\n",
       "      <td>The stock has never been assessed. The popula...</td>\n",
       "      <td>&lt;p&gt;Atlantic chub mackerel has never been asses...</td>\n",
       "      <td>Scomber colias</td>\n",
       "      <td>...</td>\n",
       "      <td>44.1 mcg</td>\n",
       "      <td>100 g (raw)</td>\n",
       "      <td>1</td>\n",
       "      <td>90 mg</td>\n",
       "      <td>&lt;p&gt;U.S. wild caught from Southern New England ...</td>\n",
       "      <td>0 g</td>\n",
       "      <td>&lt;p&gt;Rich, pronounced flavor.&lt;/p&gt;\\n</td>\n",
       "      <td>&lt;p&gt;Soft, flaky, and moist.&lt;/p&gt;\\n</td>\n",
       "      <td>/profiles/atlantic-chub-mackerel</td>\n",
       "      <td>05/19/2021 - 12:59</td>\n",
       "    </tr>\n",
       "    <tr>\n",
       "      <th>3</th>\n",
       "      <td>&lt;ul&gt;\\n&lt;li&gt;&lt;a href=\"https://www.fisheries.noaa....</td>\n",
       "      <td>&lt;ul&gt;\\n&lt;li&gt;Shortfin squid live in deep and shal...</td>\n",
       "      <td>Fishing gears used to harvest shortfin squid h...</td>\n",
       "      <td>None</td>\n",
       "      <td>&lt;ul&gt;\\n&lt;li&gt;Shortfin squid inhabits the continen...</td>\n",
       "      <td>None</td>\n",
       "      <td>Greater Atlantic</td>\n",
       "      <td>The population level is unknown. The species h...</td>\n",
       "      <td>&lt;ul&gt;\\n&lt;li&gt;According to the latest assessment, ...</td>\n",
       "      <td>Illex illecebrosus</td>\n",
       "      <td>...</td>\n",
       "      <td>44.8 mcg</td>\n",
       "      <td>100 g</td>\n",
       "      <td>1</td>\n",
       "      <td>44 mg</td>\n",
       "      <td>&lt;p&gt;U.S. wild-caught from Maine to North Caroli...</td>\n",
       "      <td>0 g</td>\n",
       "      <td>&lt;p&gt;Mild, and subtly sweet.&lt;/p&gt;\\n&lt;p&gt;&amp;nbsp;&lt;/p&gt;\\n</td>\n",
       "      <td>&lt;p&gt;Firm and meaty.&lt;/p&gt;\\n</td>\n",
       "      <td>/profiles/shortfin-squid</td>\n",
       "      <td>09/30/2020 - 15:24</td>\n",
       "    </tr>\n",
       "    <tr>\n",
       "      <th>4</th>\n",
       "      <td>&lt;ul&gt;\\n&lt;li&gt;The states and &lt;a href=\"https://www....</td>\n",
       "      <td>&lt;ul&gt;\\n&lt;li&gt;American lobsters live on the ocean ...</td>\n",
       "      <td>Fishing gears used to harvest American lobster...</td>\n",
       "      <td>[{'src': 'https://www.fishwatch.gov/sites/defa...</td>\n",
       "      <td>&lt;ul&gt;\\n&lt;li&gt;American lobsters are found in the n...</td>\n",
       "      <td>None</td>\n",
       "      <td>Greater Atlantic</td>\n",
       "      <td>Above target population levels in the Gulf of ...</td>\n",
       "      <td>&lt;ul&gt;\\n&lt;li&gt;According to the 2020&amp;nbsp;&lt;a href=\"...</td>\n",
       "      <td>Homarus americanus</td>\n",
       "      <td>...</td>\n",
       "      <td>41.4 mcg</td>\n",
       "      <td>100 g (raw)</td>\n",
       "      <td>1</td>\n",
       "      <td>296 mg</td>\n",
       "      <td>&lt;p&gt;U.S. wild-caught from Maine to North Caroli...</td>\n",
       "      <td>0 g</td>\n",
       "      <td>&lt;p&gt;Mild and sweet.&lt;/p&gt;\\n</td>\n",
       "      <td>&lt;p&gt;The meat is firm and somewhat fibrous. The ...</td>\n",
       "      <td>/profiles/american-lobster</td>\n",
       "      <td>01/07/2022 - 10:44</td>\n",
       "    </tr>\n",
       "  </tbody>\n",
       "</table>\n",
       "<p>5 rows × 56 columns</p>\n",
       "</div>"
      ],
      "text/plain": [
       "                                  Fishery Management  \\\n",
       "0  <ul>\\n<li><a href=\"https://www.fisheries.noaa....   \n",
       "1  <ul>\\n<li><a href=\"https://www.fisheries.noaa....   \n",
       "2  <ul>\\n<li>\\n<p><a href=\"https://archive.fisher...   \n",
       "3  <ul>\\n<li><a href=\"https://www.fisheries.noaa....   \n",
       "4  <ul>\\n<li>The states and <a href=\"https://www....   \n",
       "\n",
       "                                             Habitat  \\\n",
       "0                                               None   \n",
       "1  <ul>\\n<li>White hake are groundfish, meaning t...   \n",
       "2  <ul>\\n<li>Atlantic chub mackerel are a schooli...   \n",
       "3  <ul>\\n<li>Shortfin squid live in deep and shal...   \n",
       "4  <ul>\\n<li>American lobsters live on the ocean ...   \n",
       "\n",
       "                                     Habitat Impacts  \\\n",
       "0  Bottomfish fishing operations, typically using...   \n",
       "1  Area closures and gear restrictions protect ha...   \n",
       "2  Area closures and gear restrictions protect ha...   \n",
       "3  Fishing gears used to harvest shortfin squid h...   \n",
       "4  Fishing gears used to harvest American lobster...   \n",
       "\n",
       "                                       Image Gallery  \\\n",
       "0  [{'src': 'https://www.fishwatch.gov/sites/defa...   \n",
       "1  [{'src': 'https://www.fishwatch.gov/sites/defa...   \n",
       "2  [{'src': 'https://www.fishwatch.gov/sites/defa...   \n",
       "3                                               None   \n",
       "4  [{'src': 'https://www.fishwatch.gov/sites/defa...   \n",
       "\n",
       "                                            Location Management  \\\n",
       "0  <ul>\\n<li>Crimson jobfish are distributed thro...       None   \n",
       "1  <ul>\\n<li>White hake are found in the northwes...       None   \n",
       "2  <ul>\\n<li>Atlantic chub mackerel in the wester...       None   \n",
       "3  <ul>\\n<li>Shortfin squid inhabits the continen...       None   \n",
       "4  <ul>\\n<li>American lobsters are found in the n...       None   \n",
       "\n",
       "  NOAA Fisheries Region                                         Population  \\\n",
       "0       Pacific Islands  The population level is unknown, but the stock...   \n",
       "1      Greater Atlantic  Significantly below target population level. A...   \n",
       "2      Greater Atlantic   The stock has never been assessed. The popula...   \n",
       "3      Greater Atlantic  The population level is unknown. The species h...   \n",
       "4      Greater Atlantic  Above target population levels in the Gulf of ...   \n",
       "\n",
       "                                   Population Status  \\\n",
       "0  <ul>\\n<li>There are five stocks of crimson job...   \n",
       "1  <ul>\\n<li>According to the 2019 stock assessme...   \n",
       "2  <p>Atlantic chub mackerel has never been asses...   \n",
       "3  <ul>\\n<li>According to the latest assessment, ...   \n",
       "4  <ul>\\n<li>According to the 2020&nbsp;<a href=\"...   \n",
       "\n",
       "               Scientific Name  ...  Selenium Serving Weight Servings  Sodium  \\\n",
       "0  Pristipomoides filamentosus  ...  38.2 mcg    100 g (raw)        1   64 mg   \n",
       "1             Urophycis tenuis  ...  32.1 mcg    100 g (raw)        1   72 mg   \n",
       "2               Scomber colias  ...  44.1 mcg    100 g (raw)        1   90 mg   \n",
       "3           Illex illecebrosus  ...  44.8 mcg          100 g        1   44 mg   \n",
       "4           Homarus americanus  ...  41.4 mcg    100 g (raw)        1  296 mg   \n",
       "\n",
       "                                              Source Sugars, Total  \\\n",
       "0  <p>U.S -wild caught around Hawaii and Pacific ...           0 g   \n",
       "1  <p>White hake is wild-caught from Maine to sou...           0 g   \n",
       "2  <p>U.S. wild caught from Southern New England ...           0 g   \n",
       "3  <p>U.S. wild-caught from Maine to North Caroli...           0 g   \n",
       "4  <p>U.S. wild-caught from Maine to North Caroli...           0 g   \n",
       "\n",
       "                                               Taste  \\\n",
       "0    <p>Crimson jobfish has a delicate flavor.</p>\\n   \n",
       "1  <p>White hake has a mild, almost sweet&nbsp;ta...   \n",
       "2                  <p>Rich, pronounced flavor.</p>\\n   \n",
       "3    <p>Mild, and subtly sweet.</p>\\n<p>&nbsp;</p>\\n   \n",
       "4                           <p>Mild and sweet.</p>\\n   \n",
       "\n",
       "                                             Texture  \\\n",
       "0  <p>Crimson jobfish has&nbsp;a firm texture and...   \n",
       "1  <p>White hake has a soft, delicate texture tha...   \n",
       "2                   <p>Soft, flaky, and moist.</p>\\n   \n",
       "3                           <p>Firm and meaty.</p>\\n   \n",
       "4  <p>The meat is firm and somewhat fibrous. The ...   \n",
       "\n",
       "                               Path         last_update  \n",
       "0         /profiles/crimson-jobfish  06/21/2022 - 12:00  \n",
       "1              /profiles/white-hake  03/24/2022 - 10:36  \n",
       "2  /profiles/atlantic-chub-mackerel  05/19/2021 - 12:59  \n",
       "3          /profiles/shortfin-squid  09/30/2020 - 15:24  \n",
       "4        /profiles/american-lobster  01/07/2022 - 10:44  \n",
       "\n",
       "[5 rows x 56 columns]"
      ]
     },
     "execution_count": 31,
     "metadata": {},
     "output_type": "execute_result"
    }
   ],
   "source": [
    "# Write your code here\n",
    "pd.DataFrame(results2).head(5)"
   ]
  },
  {
   "cell_type": "markdown",
   "id": "1bcd9fe8-9ee8-44eb-a02e-36a8c3c6023c",
   "metadata": {},
   "source": [
    "<details><summary>Click here for the solution</summary>\n",
    "\n",
    "```python\n",
    "df3 = pd.DataFrame(results2)\n",
    "df3\n",
    "```\n",
    "\n",
    "</details>\n"
   ]
  },
  {
   "cell_type": "markdown",
   "id": "17a05264-ae66-4eb0-bf17-6da7dcf329d3",
   "metadata": {},
   "source": [
    "# Congratulations! - You have completed the lab\n"
   ]
  },
  {
   "cell_type": "markdown",
   "id": "5d2605ca-4f86-4c26-8d36-4c4632f9071e",
   "metadata": {},
   "source": [
    "## Author\n",
    "\n",
    "[Svitlana Kramar](https://www.linkedin.com/in/svitlana-kramar?utm_medium=Exinfluencer&utm_source=Exinfluencer&utm_content=000026UJ&utm_term=10006555&utm_id=NA-SkillsNetwork-Channel-SkillsNetworkCoursesIBMDeveloperSkillsNetworkPY0101ENSkillsNetwork19487395-2022-01-01)\n",
    "\n",
    "Svitlana is a master’s degree Data Science and Analytics student at University of Calgary, who enjoys travelling, learning new languages and cultures and loves spreading her passion for Data Science.\n"
   ]
  },
  {
   "cell_type": "markdown",
   "id": "c47f20b7-8df8-47d1-ab82-c14dbde12258",
   "metadata": {},
   "source": [
    "Copyright © 2020 IBM Corporation. All rights reserved.\n"
   ]
  }
 ],
 "metadata": {
  "kernelspec": {
   "display_name": "Python 3 (ipykernel)",
   "language": "python",
   "name": "python3"
  },
  "language_info": {
   "codemirror_mode": {
    "name": "ipython",
    "version": 3
   },
   "file_extension": ".py",
   "mimetype": "text/x-python",
   "name": "python",
   "nbconvert_exporter": "python",
   "pygments_lexer": "ipython3",
   "version": "3.9.7"
  }
 },
 "nbformat": 4,
 "nbformat_minor": 5
}
